{
 "cells": [
  {
   "cell_type": "markdown",
   "metadata": {},
   "source": [
    "# Project 4: Candidate Resume Recommendation System\n",
    "# Import packages"
   ]
  },
  {
   "cell_type": "code",
   "execution_count": 1,
   "metadata": {},
   "outputs": [
    {
     "name": "stderr",
     "output_type": "stream",
     "text": [
      "/Users/hellojenny/opt/anaconda3/envs/metis/lib/python3.7/site-packages/umap/spectral.py:4: NumbaDeprecationWarning: \u001b[1mNo direct replacement for 'numba.targets' available. Visit https://gitter.im/numba/numba-dev to request help. Thanks!\u001b[0m\n",
      "  import numba.targets\n"
     ]
    }
   ],
   "source": [
    "from sklearn.feature_extraction.text import TfidfVectorizer\n",
    "from sklearn.decomposition import TruncatedSVD, NMF, LatentDirichletAllocation\n",
    "import matplotlib.pyplot as plt\n",
    "import seaborn as sns\n",
    "import pandas as pd\n",
    "import numpy as np\n",
    "from sklearn.metrics import pairwise_distances\n",
    "from sklearn.cluster import KMeans, DBSCAN\n",
    "import pyLDAvis\n",
    "import pyLDAvis.sklearn\n",
    "import statistics \n",
    "import matplotlib.pyplot as plt\n",
    "import seaborn as sns\n",
    "import umap"
   ]
  },
  {
   "cell_type": "code",
   "execution_count": 2,
   "metadata": {},
   "outputs": [
    {
     "name": "stderr",
     "output_type": "stream",
     "text": [
      "/Users/hellojenny/opt/anaconda3/envs/metis/lib/python3.7/site-packages/thinc/neural/train.py:3: DeprecationWarning: Using or importing the ABCs from 'collections' instead of from 'collections.abc' is deprecated since Python 3.3,and in 3.9 it will stop working\n",
      "  from .optimizers import Adam, SGD, linear_decay\n",
      "/Users/hellojenny/opt/anaconda3/envs/metis/lib/python3.7/site-packages/thinc/check.py:1: DeprecationWarning: Using or importing the ABCs from 'collections' instead of from 'collections.abc' is deprecated since Python 3.3,and in 3.9 it will stop working\n",
      "  from collections import defaultdict, Sequence, Sized, Iterable, Callable\n",
      "/Users/hellojenny/opt/anaconda3/envs/metis/lib/python3.7/site-packages/thinc/check.py:1: DeprecationWarning: Using or importing the ABCs from 'collections' instead of from 'collections.abc' is deprecated since Python 3.3,and in 3.9 it will stop working\n",
      "  from collections import defaultdict, Sequence, Sized, Iterable, Callable\n",
      "/Users/hellojenny/opt/anaconda3/envs/metis/lib/python3.7/site-packages/thinc/check.py:1: DeprecationWarning: Using or importing the ABCs from 'collections' instead of from 'collections.abc' is deprecated since Python 3.3,and in 3.9 it will stop working\n",
      "  from collections import defaultdict, Sequence, Sized, Iterable, Callable\n"
     ]
    }
   ],
   "source": [
    "import spacy\n",
    "import en_core_web_sm\n",
    "nlp = en_core_web_sm.load()"
   ]
  },
  {
   "cell_type": "markdown",
   "metadata": {},
   "source": [
    "# Load the data into dataframes"
   ]
  },
  {
   "cell_type": "code",
   "execution_count": 3,
   "metadata": {},
   "outputs": [
    {
     "name": "stderr",
     "output_type": "stream",
     "text": [
      "/Users/hellojenny/opt/anaconda3/envs/metis/lib/python3.7/site-packages/botocore/vendored/requests/packages/urllib3/_collections.py:1: DeprecationWarning: Using or importing the ABCs from 'collections' instead of from 'collections.abc' is deprecated since Python 3.3,and in 3.9 it will stop working\n",
      "  from collections import Mapping, MutableMapping\n",
      "/Users/hellojenny/opt/anaconda3/envs/metis/lib/python3.7/site-packages/botocore/vendored/requests/packages/urllib3/_collections.py:1: DeprecationWarning: Using or importing the ABCs from 'collections' instead of from 'collections.abc' is deprecated since Python 3.3,and in 3.9 it will stop working\n",
      "  from collections import Mapping, MutableMapping\n"
     ]
    }
   ],
   "source": [
    "jobs = pd.read_pickle('./jobs_cleaned.pkl')\n",
    "resumes = pd.read_pickle('./resumes_cleaned.pkl')"
   ]
  },
  {
   "cell_type": "markdown",
   "metadata": {},
   "source": [
    "# Conduct Additional EDA\n",
    "Since there are only 2,000 rows of resumes and a lot of them have very little text after pre-processing, i.e., less than 20 words. I'll be cutting down the data to only include more than 23 words, as it will reserve at least 1,000 resumes for the recommendation engine."
   ]
  },
  {
   "cell_type": "code",
   "execution_count": 4,
   "metadata": {},
   "outputs": [
    {
     "data": {
      "text/plain": [
       "(array([1981.,  228.,  106.,   52.,   26.,   12.,    4.,    3.,    2.,\n",
       "           2.]),\n",
       " array([1.0000e+00, 7.0750e+02, 1.4140e+03, 2.1205e+03, 2.8270e+03,\n",
       "        3.5335e+03, 4.2400e+03, 4.9465e+03, 5.6530e+03, 6.3595e+03,\n",
       "        7.0660e+03]),\n",
       " <a list of 10 Patch objects>)"
      ]
     },
     "execution_count": 4,
     "metadata": {},
     "output_type": "execute_result"
    },
    {
     "data": {
      "image/png": "[encoded data removed]",
      "text/plain": [
       "<Figure size 432x288 with 1 Axes>"
      ]
     },
     "metadata": {
      "needs_background": "light"
     },
     "output_type": "display_data"
    }
   ],
   "source": [
    "statistics.mode([len(text) for text in resumes['text']])\n",
    "dist = [len(text) for text in resumes['text']]\n",
    "plt.hist(dist, color = 'blue', edgecolor = 'black')"
   ]
  },
  {
   "cell_type": "code",
   "execution_count": 5,
   "metadata": {},
   "outputs": [],
   "source": [
    "def display_cluster(X,km=[],num_clusters=0):\n",
    "    color = 'brgcmyk'\n",
    "    alpha = 0.5\n",
    "    s = 20\n",
    "    if num_clusters == 0:\n",
    "        plt.scatter(X[:,0],X[:,1],c = color[0],alpha = alpha,s = s)\n",
    "    else:\n",
    "        for i in range(num_clusters):\n",
    "            plt.scatter(X[km.labels_==i,0],X[km.labels_==i,1],c = color[i],alpha = alpha,s=s)\n",
    "            plt.scatter(km.cluster_centers_[i][0],km.cluster_centers_[i][1],c = color[i], marker = 'x', s = 100)"
   ]
  },
  {
   "cell_type": "code",
   "execution_count": 6,
   "metadata": {},
   "outputs": [
    {
     "data": {
      "text/plain": [
       "array([[ 27,   2],\n",
       "       [ 20,   2],\n",
       "       [ 24,   2],\n",
       "       ...,\n",
       "       [108,   2],\n",
       "       [206,   2],\n",
       "       [302,   2]])"
      ]
     },
     "execution_count": 6,
     "metadata": {},
     "output_type": "execute_result"
    }
   ],
   "source": [
    "X = [[len(text.split()), two] for text in resumes['text'] for two in [2]]\n",
    "X = np.asarray(X)\n",
    "X"
   ]
  },
  {
   "cell_type": "code",
   "execution_count": 7,
   "metadata": {},
   "outputs": [
    {
     "data": {
      "image/png": "[encoded data removed]",
      "text/plain": [
       "<Figure size 432x288 with 1 Axes>"
      ]
     },
     "metadata": {
      "needs_background": "light"
     },
     "output_type": "display_data"
    }
   ],
   "source": [
    "num_clusters = 3\n",
    "km = KMeans(n_clusters=num_clusters,random_state=10,n_init=10) # n_init, number of times the K-mean algorithm will run\n",
    "km.fit(X)\n",
    "display_cluster(X,km,num_clusters)"
   ]
  },
  {
   "cell_type": "code",
   "execution_count": 8,
   "metadata": {},
   "outputs": [
    {
     "data": {
      "text/plain": [
       "1007"
      ]
     },
     "execution_count": 8,
     "metadata": {},
     "output_type": "execute_result"
    }
   ],
   "source": [
    "count = 0\n",
    "for text in resumes['text']:\n",
    "    if len(text.split()) > 23:\n",
    "        count+=1\n",
    "count"
   ]
  },
  {
   "cell_type": "code",
   "execution_count": 9,
   "metadata": {},
   "outputs": [],
   "source": [
    "def num_words(text):\n",
    "    return len(text.split())\n",
    "\n",
    "resumes = resumes[resumes['text'].map(num_words) >= 23] "
   ]
  },
  {
   "cell_type": "code",
   "execution_count": 10,
   "metadata": {},
   "outputs": [],
   "source": [
    "resumes.reset_index(inplace=True)"
   ]
  },
  {
   "cell_type": "code",
   "execution_count": 11,
   "metadata": {},
   "outputs": [],
   "source": [
    "resumes.drop(['index'], axis=1, inplace=True)"
   ]
  },
  {
   "cell_type": "code",
   "execution_count": 12,
   "metadata": {},
   "outputs": [
    {
     "data": {
      "text/html": [
       "<div>\n",
       "<style scoped>\n",
       "    .dataframe tbody tr th:only-of-type {\n",
       "        vertical-align: middle;\n",
       "    }\n",
       "\n",
       "    .dataframe tbody tr th {\n",
       "        vertical-align: top;\n",
       "    }\n",
       "\n",
       "    .dataframe thead th {\n",
       "        text-align: right;\n",
       "    }\n",
       "</style>\n",
       "<table border=\"1\" class=\"dataframe\">\n",
       "  <thead>\n",
       "    <tr style=\"text-align: right;\">\n",
       "      <th></th>\n",
       "      <th>applicant_id</th>\n",
       "      <th>job_title</th>\n",
       "      <th>job_description</th>\n",
       "      <th>cleaned_job_title</th>\n",
       "      <th>cleaned_job_description</th>\n",
       "      <th>text</th>\n",
       "    </tr>\n",
       "  </thead>\n",
       "  <tbody>\n",
       "    <tr>\n",
       "      <th>0</th>\n",
       "      <td>2</td>\n",
       "      <td>Writer for the Uloop Blog Volunteer</td>\n",
       "      <td>* Wrote articles for the \"Uloop Blog,\" which i...</td>\n",
       "      <td>writer uloop blog volunteer</td>\n",
       "      <td>read aloud book record audio visually impair w...</td>\n",
       "      <td>writer uloop blog volunteer read aloud book re...</td>\n",
       "    </tr>\n",
       "    <tr>\n",
       "      <th>1</th>\n",
       "      <td>78</td>\n",
       "      <td>Impact team member</td>\n",
       "      <td>Help maintain merchandise flow, Work on fillin...</td>\n",
       "      <td>impact team member</td>\n",
       "      <td>help maintain merchandise flow fill present st...</td>\n",
       "      <td>impact team member help maintain merchandise f...</td>\n",
       "    </tr>\n",
       "    <tr>\n",
       "      <th>2</th>\n",
       "      <td>89</td>\n",
       "      <td>Clerk's helper Healthcare Specialist / Combat ...</td>\n",
       "      <td>Clinical and field medicine, Healthcare educat...</td>\n",
       "      <td>clerk helper healthcare specialist combat medic</td>\n",
       "      <td>clinical field medicine education food medicin...</td>\n",
       "      <td>clerk helper healthcare specialist combat medi...</td>\n",
       "    </tr>\n",
       "    <tr>\n",
       "      <th>3</th>\n",
       "      <td>96</td>\n",
       "      <td>Receptionist Cashier Cashiet/Waiter</td>\n",
       "      <td>Place table for customers, provide water or te...</td>\n",
       "      <td>cashier cashiet waiter receptionist</td>\n",
       "      <td>place table customer provide water tea sit tak...</td>\n",
       "      <td>cashier cashiet waiter receptionist place tabl...</td>\n",
       "    </tr>\n",
       "    <tr>\n",
       "      <th>4</th>\n",
       "      <td>153</td>\n",
       "      <td>Banker  Photographer Front Desk Agent Operatio...</td>\n",
       "      <td>•\\tCaptured memories and experiences for famil...</td>\n",
       "      <td>photographer front desk agent banker operation...</td>\n",
       "      <td>exceed monthly quarterly goal proactively sell...</td>\n",
       "      <td>photographer front desk agent banker operation...</td>\n",
       "    </tr>\n",
       "    <tr>\n",
       "      <th>...</th>\n",
       "      <td>...</td>\n",
       "      <td>...</td>\n",
       "      <td>...</td>\n",
       "      <td>...</td>\n",
       "      <td>...</td>\n",
       "      <td>...</td>\n",
       "    </tr>\n",
       "    <tr>\n",
       "      <th>1029</th>\n",
       "      <td>14617</td>\n",
       "      <td>Technical Sales Associate Volunteer Member Pre...</td>\n",
       "      <td>•\\tEnhanced knowledge about health topics such...</td>\n",
       "      <td>member president volunteer uci health certifie...</td>\n",
       "      <td>promoted awareness eating disorder organize ev...</td>\n",
       "      <td>member president volunteer uci health certifie...</td>\n",
       "    </tr>\n",
       "    <tr>\n",
       "      <th>1030</th>\n",
       "      <td>14622</td>\n",
       "      <td>Account Manager Manager, Digital Sales Plannin...</td>\n",
       "      <td>●\\tGenerate digital media plans for InStyle.co...</td>\n",
       "      <td>account manager digital sales account manager ...</td>\n",
       "      <td>pre sale post sale duty agency client account ...</td>\n",
       "      <td>account manager digital sales account manager ...</td>\n",
       "    </tr>\n",
       "    <tr>\n",
       "      <th>1031</th>\n",
       "      <td>14639</td>\n",
       "      <td>Student Senate Intern Girl Boss Consultant Tou...</td>\n",
       "      <td>Strategy and operations consulting, primarily ...</td>\n",
       "      <td>assistant property manager webmaster consultan...</td>\n",
       "      <td>responsible lead historical informational min...</td>\n",
       "      <td>assistant property manager webmaster consultan...</td>\n",
       "    </tr>\n",
       "    <tr>\n",
       "      <th>1032</th>\n",
       "      <td>14642</td>\n",
       "      <td>Director Diversity &amp; Human Resources Adjunct F...</td>\n",
       "      <td>*Chief Human Resources Officer and Director of...</td>\n",
       "      <td>found president author director diversity huma...</td>\n",
       "      <td>connect scholar industry expert manager educa...</td>\n",
       "      <td>found president author director diversity huma...</td>\n",
       "    </tr>\n",
       "    <tr>\n",
       "      <th>1033</th>\n",
       "      <td>14643</td>\n",
       "      <td>Artist, Artist Co-Founder Co-Founder Founder I...</td>\n",
       "      <td>FWEN is dedicated to fostering emerging women ...</td>\n",
       "      <td>artist artist co founder inflight wifi market ...</td>\n",
       "      <td>provide strategy team athlete entrepreneur art...</td>\n",
       "      <td>artist artist co founder inflight wifi market ...</td>\n",
       "    </tr>\n",
       "  </tbody>\n",
       "</table>\n",
       "<p>1034 rows × 6 columns</p>\n",
       "</div>"
      ],
      "text/plain": [
       "      applicant_id                                          job_title  \\\n",
       "0                2                Writer for the Uloop Blog Volunteer   \n",
       "1               78                                 Impact team member   \n",
       "2               89  Clerk's helper Healthcare Specialist / Combat ...   \n",
       "3               96                Receptionist Cashier Cashiet/Waiter   \n",
       "4              153  Banker  Photographer Front Desk Agent Operatio...   \n",
       "...            ...                                                ...   \n",
       "1029         14617  Technical Sales Associate Volunteer Member Pre...   \n",
       "1030         14622  Account Manager Manager, Digital Sales Plannin...   \n",
       "1031         14639  Student Senate Intern Girl Boss Consultant Tou...   \n",
       "1032         14642  Director Diversity & Human Resources Adjunct F...   \n",
       "1033         14643  Artist, Artist Co-Founder Co-Founder Founder I...   \n",
       "\n",
       "                                        job_description  \\\n",
       "0     * Wrote articles for the \"Uloop Blog,\" which i...   \n",
       "1     Help maintain merchandise flow, Work on fillin...   \n",
       "2     Clinical and field medicine, Healthcare educat...   \n",
       "3     Place table for customers, provide water or te...   \n",
       "4     •\\tCaptured memories and experiences for famil...   \n",
       "...                                                 ...   \n",
       "1029  •\\tEnhanced knowledge about health topics such...   \n",
       "1030  ●\\tGenerate digital media plans for InStyle.co...   \n",
       "1031  Strategy and operations consulting, primarily ...   \n",
       "1032  *Chief Human Resources Officer and Director of...   \n",
       "1033  FWEN is dedicated to fostering emerging women ...   \n",
       "\n",
       "                                      cleaned_job_title  \\\n",
       "0                           writer uloop blog volunteer   \n",
       "1                                    impact team member   \n",
       "2       clerk helper healthcare specialist combat medic   \n",
       "3                   cashier cashiet waiter receptionist   \n",
       "4     photographer front desk agent banker operation...   \n",
       "...                                                 ...   \n",
       "1029  member president volunteer uci health certifie...   \n",
       "1030  account manager digital sales account manager ...   \n",
       "1031  assistant property manager webmaster consultan...   \n",
       "1032  found president author director diversity huma...   \n",
       "1033  artist artist co founder inflight wifi market ...   \n",
       "\n",
       "                                cleaned_job_description  \\\n",
       "0     read aloud book record audio visually impair w...   \n",
       "1     help maintain merchandise flow fill present st...   \n",
       "2     clinical field medicine education food medicin...   \n",
       "3     place table customer provide water tea sit tak...   \n",
       "4     exceed monthly quarterly goal proactively sell...   \n",
       "...                                                 ...   \n",
       "1029  promoted awareness eating disorder organize ev...   \n",
       "1030  pre sale post sale duty agency client account ...   \n",
       "1031   responsible lead historical informational min...   \n",
       "1032   connect scholar industry expert manager educa...   \n",
       "1033  provide strategy team athlete entrepreneur art...   \n",
       "\n",
       "                                                   text  \n",
       "0     writer uloop blog volunteer read aloud book re...  \n",
       "1     impact team member help maintain merchandise f...  \n",
       "2     clerk helper healthcare specialist combat medi...  \n",
       "3     cashier cashiet waiter receptionist place tabl...  \n",
       "4     photographer front desk agent banker operation...  \n",
       "...                                                 ...  \n",
       "1029  member president volunteer uci health certifie...  \n",
       "1030  account manager digital sales account manager ...  \n",
       "1031  assistant property manager webmaster consultan...  \n",
       "1032  found president author director diversity huma...  \n",
       "1033  artist artist co founder inflight wifi market ...  \n",
       "\n",
       "[1034 rows x 6 columns]"
      ]
     },
     "execution_count": 12,
     "metadata": {},
     "output_type": "execute_result"
    }
   ],
   "source": [
    "resumes"
   ]
  },
  {
   "cell_type": "markdown",
   "metadata": {},
   "source": [
    "# Vectorizer"
   ]
  },
  {
   "cell_type": "markdown",
   "metadata": {},
   "source": [
    "Fit the vectorizer on `Resume`"
   ]
  },
  {
   "cell_type": "code",
   "execution_count": 13,
   "metadata": {},
   "outputs": [
    {
     "data": {
      "text/plain": [
       "(1034, 192)"
      ]
     },
     "execution_count": 13,
     "metadata": {},
     "output_type": "execute_result"
    }
   ],
   "source": [
    "tfidf = TfidfVectorizer(ngram_range=(2,3), \n",
    "                        stop_words='english', \n",
    "                        sublinear_tf=True,\n",
    "                        min_df=12, \n",
    "                        max_df=0.7)\n",
    "doc_word = tfidf.fit_transform(resumes['text'])\n",
    "doc_word.shape"
   ]
  },
  {
   "cell_type": "markdown",
   "metadata": {},
   "source": [
    "# Dimension Reduction"
   ]
  },
  {
   "cell_type": "code",
   "execution_count": 14,
   "metadata": {},
   "outputs": [],
   "source": [
    "def display_topics(model, feature_names, no_top_words, topic_names=None):\n",
    "    for ix, topic in enumerate(model.components_):\n",
    "        if not topic_names or not topic_names[ix]:\n",
    "            print(\"\\nTopic \", ix+1)\n",
    "        else:\n",
    "            print(\"\\nTopic: '\",topic_names[ix],\"'\")\n",
    "        print(\", \".join([feature_names[i]\n",
    "                        for i in topic.argsort()[:-no_top_words - 1:-1]]))"
   ]
  },
  {
   "cell_type": "code",
   "execution_count": 15,
   "metadata": {},
   "outputs": [],
   "source": [
    "component_count = 8\n",
    "component_names = [f'Topic {component_num+1}' for component_num in range(component_count)]"
   ]
  },
  {
   "cell_type": "markdown",
   "metadata": {},
   "source": [
    "## LSA"
   ]
  },
  {
   "cell_type": "code",
   "execution_count": 16,
   "metadata": {},
   "outputs": [
    {
     "name": "stdout",
     "output_type": "stream",
     "text": [
      "Total Explained Variance Ratio: 0.13921468080769134\n"
     ]
    }
   ],
   "source": [
    "lsa = TruncatedSVD(component_count)\n",
    "doc_topic = lsa.fit_transform(doc_word)\n",
    "\n",
    "topic_word = pd.DataFrame(lsa.components_.round(3), \n",
    "                          index=component_names,\n",
    "                          columns=tfidf.get_feature_names())\n",
    "\n",
    "resume_doc_topic_lsa = pd.DataFrame(doc_topic.round(5), \n",
    "                                    index=resumes['text'], \n",
    "                                    columns = component_names)\n",
    "\n",
    "print('Total Explained Variance Ratio:', lsa.explained_variance_ratio_.sum())"
   ]
  },
  {
   "cell_type": "code",
   "execution_count": 17,
   "metadata": {},
   "outputs": [
    {
     "name": "stdout",
     "output_type": "stream",
     "text": [
      "\n",
      "Topic  1\n",
      "customer service, sale associate, service representative, excellent customer, excellent customer service, cash register, customer service representative, train new, assist customer, social medium\n",
      "\n",
      "Topic  2\n",
      "social medium, administrative assistant, team member, day day, datum entry, business development, policy procedure, new employee, train new, sale associate\n",
      "\n",
      "Topic  3\n",
      "sale associate, cash register, answer phone, greet customer, answer question, help customer, train new, new employee, train new employee, datum entry\n",
      "\n",
      "Topic  4\n",
      "sale associate, social medium, help customer, business development, marketing strategy, real estate, sale marketing, team member, new business, marketing campaign\n",
      "\n",
      "Topic  5\n",
      "train new, new employee, train new employee, team member, account manager, cash register, excellent customer service, excellent customer, training new, human resources\n",
      "\n",
      "Topic  6\n",
      "social medium, train new, answer phone, new employee, train new employee, answer question, excellent customer, excellent customer service, provide excellent, provide excellent customer\n",
      "\n",
      "Topic  7\n",
      "answer question, team member, security officer, excellent customer, excellent customer service, provide excellent, provide excellent customer, project manager, answer phone, business development\n",
      "\n",
      "Topic  8\n",
      "make sure, security officer, cash register, duty include, timely manner, excellent customer service, excellent customer, administrative assistant, provide excellent, provide assistance\n"
     ]
    }
   ],
   "source": [
    "display_topics(lsa, tfidf.get_feature_names(), 10)"
   ]
  },
  {
   "cell_type": "markdown",
   "metadata": {},
   "source": [
    "**Explained Variance**"
   ]
  },
  {
   "cell_type": "code",
   "execution_count": 18,
   "metadata": {},
   "outputs": [
    {
     "data": {
      "text/plain": [
       "Text(0, 1.03, 'Cumulative \\n Explained Variance')"
      ]
     },
     "execution_count": 18,
     "metadata": {},
     "output_type": "execute_result"
    },
    {
     "data": {
      "image/png": "[encoded data removed]",
      "text/plain": [
       "<Figure size 1296x432 with 2 Axes>"
      ]
     },
     "metadata": {
      "needs_background": "light"
     },
     "output_type": "display_data"
    }
   ],
   "source": [
    "var_ratio = lsa.explained_variance_ratio_\n",
    "num_components = [i+1 for i in range(len(var_ratio))]\n",
    "\n",
    "plt.figure(figsize=(18, 6))\n",
    "plt.subplot(1, 2, 1)\n",
    "sns.lineplot(num_components, var_ratio)\n",
    "sns.scatterplot(num_components, var_ratio)\n",
    "plt.title('Explained Variance by LSA', fontsize=16, y= 1.03)\n",
    "plt.xlabel('Topic Number', fontsize = 12, x=1.0)\n",
    "plt.ylabel('Explained\\nVariance', fontsize = 12, y=1.03, rotation=0)\n",
    "\n",
    "plt.subplot(1, 2, 2)\n",
    "cum_variance = np.cumsum(var_ratio)\n",
    "sns.lineplot(num_components, cum_variance)\n",
    "sns.scatterplot(num_components, cum_variance)\n",
    "plt.title('Cumulative Explained Variance by LSA', fontsize=16, y= 1.03)\n",
    "plt.xlabel('Number of Topics', fontsize = 12, x=1.01)\n",
    "plt.ylabel('Cumulative \\n Explained Variance', fontsize = 12, y=1.03, rotation=0)\n",
    "# plt.savefig('./img/variance_per_component_lsa.png', bbox_inches = 'tight')"
   ]
  },
  {
   "cell_type": "markdown",
   "metadata": {},
   "source": [
    "## NMF"
   ]
  },
  {
   "cell_type": "code",
   "execution_count": 19,
   "metadata": {},
   "outputs": [],
   "source": [
    "nmf = NMF(component_count, random_state=42)\n",
    "doc_topic = nmf.fit_transform(doc_word)\n",
    "\n",
    "topic_word = pd.DataFrame(nmf.components_.round(3),\n",
    "                          index = component_names,\n",
    "                          columns = tfidf.get_feature_names())\n",
    "\n",
    "resume_doc_topic_nmf = pd.DataFrame(doc_topic.round(5), \n",
    "                                    index=resumes['text'], \n",
    "                                    columns = component_names)"
   ]
  },
  {
   "cell_type": "code",
   "execution_count": 20,
   "metadata": {},
   "outputs": [
    {
     "name": "stdout",
     "output_type": "stream",
     "text": [
      "\n",
      "Topic  1\n",
      "customer service, service representative, customer service representative, provide customer, provide customer service, assist customer, resolve customer, fast pace, open close, service skill\n",
      "\n",
      "Topic  2\n",
      "team member, policy procedure, business development, project manager, new business, responsibility include, day day, credit card, sale team, account manager\n",
      "\n",
      "Topic  3\n",
      "sale associate, help customer, cash register, greet customer, sale floor, provide customer, cash drawer, provide customer service, customer need, service customer\n",
      "\n",
      "Topic  4\n",
      "answer phone, administrative assistant, datum entry, data entry, line phone, clerical duty, multi line, order supply, travel arrangement, duty include\n",
      "\n",
      "Topic  5\n",
      "train new, new employee, train new employee, human resources, training new, executive assistant, inbound outbound, cash register, administrative support, service representative\n",
      "\n",
      "Topic  6\n",
      "social medium, marketing strategy, press release, act liaison, marketing campaign, small business, special event, create maintain, day day, marketing material\n",
      "\n",
      "Topic  7\n",
      "excellent customer, excellent customer service, provide excellent, answer question, provide excellent customer, food order, food beverage, greet customer, cash register, assistant manager\n",
      "\n",
      "Topic  8\n",
      "make sure, security officer, timely manner, office assistant, provide assistance, security guard, fast pace, assist customer, cash register, office duty\n"
     ]
    }
   ],
   "source": [
    "display_topics(nmf, tfidf.get_feature_names(), 10)"
   ]
  },
  {
   "cell_type": "markdown",
   "metadata": {},
   "source": [
    "## LDA"
   ]
  },
  {
   "cell_type": "code",
   "execution_count": 23,
   "metadata": {},
   "outputs": [],
   "source": [
    "lda = LatentDirichletAllocation(n_components=component_count, # Number of topics\n",
    "                                learning_method = 'online',\n",
    "                                random_state=0,       \n",
    "                                n_jobs = -1)  # Use all available CPUs\n",
    "\n",
    "doc_topic = lda.fit_transform(doc_word)\n",
    "\n",
    "topic_word = pd.DataFrame(lda.components_.round(3),\n",
    "                          index = component_names,\n",
    "                          columns = tfidf.get_feature_names())\n",
    "\n",
    "resume_doc_topic_lda = pd.DataFrame(doc_topic.round(5), \n",
    "                                    index=resumes['text'], \n",
    "                                    columns = component_names)\n",
    "#resume_doc_topic_lda"
   ]
  },
  {
   "cell_type": "code",
   "execution_count": 24,
   "metadata": {},
   "outputs": [
    {
     "name": "stdout",
     "output_type": "stream",
     "text": [
      "\n",
      "Topic  1\n",
      "customer service, technical support, quality assurance, fast pace, security guard, high quality, sale representative, customer support, customer relation, provide customer\n",
      "\n",
      "Topic  2\n",
      "customer service, human resources, responsibility include, data entry, security officer, policy procedure, credit card, service representative, daily activity, customer service representative\n",
      "\n",
      "Topic  3\n",
      "sale associate, customer service, answer question, make sure, cash register, excellent customer, excellent customer service, assist customer, provide customer, provide excellent\n",
      "\n",
      "Topic  4\n",
      "software engineer, sale goal, train new, phone email, manager manage, day operation, day day operation, hardware software, customer relation, increase sale\n",
      "\n",
      "Topic  5\n",
      "project include, public relation, administrative duty, high school, timely manner, travel arrangement, duty include, office assistant, assistant manager, press release\n",
      "\n",
      "Topic  6\n",
      "social medium, business development, financial service, service client, project manager, team member, vice president, product development, marketing strategy, sale marketing\n",
      "\n",
      "Topic  7\n",
      "datum entry, administrative assistant, account manager, team member, sale team, new employee, answer phone, train new, real estate, customer service\n",
      "\n",
      "Topic  8\n",
      "develop implement, duty include, answering phone, problem solve, program manager, food beverage, legal document, executive assistant, sales manager, account executive\n"
     ]
    }
   ],
   "source": [
    "display_topics(lda, tfidf.get_feature_names(), 10)"
   ]
  },
  {
   "cell_type": "markdown",
   "metadata": {},
   "source": [
    "## Plots\n",
    "### Intertopic Distance Map"
   ]
  },
  {
   "cell_type": "code",
   "execution_count": 25,
   "metadata": {},
   "outputs": [],
   "source": [
    "lda_vis = pyLDAvis.sklearn.prepare(lda, doc_word, tfidf, mds='tsne', R=10)"
   ]
  },
  {
   "cell_type": "code",
   "execution_count": 26,
   "metadata": {},
   "outputs": [
    {
     "name": "stdout",
     "output_type": "stream",
     "text": [
      "\n",
      "\n"
     ]
    },
    {
     "data": {
      "text/html": [
       "\n",
       "<link rel=\"stylesheet\" type=\"text/css\" href=\"https://cdn.rawgit.com/bmabey/pyLDAvis/files/ldavis.v1.0.0.css\">\n",
       "\n",
       "\n",
       "<div id=\"ldavis_el899321123702897442809382144\"></div>\n",
       "<script type=\"text/javascript\">\n",
       "\n",
       "var ldavis_el899321123702897442809382144_data = {\"mdsDat\": {\"x\": [-108.958251953125, 186.487060546875, 19.245832443237305, 170.65882873535156, -1.3864107131958008, -145.8000946044922, 64.83454132080078, -196.90603637695312], \"y\": [-208.9414825439453, -98.1032485961914, 160.85877990722656, 75.44507598876953, -35.043739318847656, 106.94461059570312, -221.8252716064453, -58.99091339111328], \"topics\": [1, 2, 3, 4, 5, 6, 7, 8], \"cluster\": [1, 1, 1, 1, 1, 1, 1, 1], \"Freq\": [19.28376375964324, 16.192013311013152, 15.494516964726438, 12.525503412728034, 9.968121812855662, 9.265570024285964, 9.027181565759932, 8.243329148987582]}, \"tinfo\": {\"Term\": [\"develop implement\", \"customer service\", \"project include\", \"duty include\", \"human resources\", \"social medium\", \"public relation\", \"sale associate\", \"answering phone\", \"technical support\", \"business development\", \"service client\", \"financial service\", \"product development\", \"social medium\", \"vice president\", \"marketing strategy\", \"client need\", \"project manager\", \"marketing campaign\", \"research assistant\", \"team member\", \"sale marketing\", \"make sure\", \"excellent customer\", \"answer question\", \"excellent customer service\", \"provide excellent\", \"sale floor\", \"provide excellent customer\", \"food order\", \"order customer\", \"cash register\", \"sale associate\", \"customer need\", \"assist customer\", \"provide customer\", \"customer service\", \"train new employee\", \"multi line\", \"line phone\", \"office duty\", \"clerical duty\", \"serve customer\", \"opening closing\", \"new employee\", \"sale team\", \"datum entry\", \"account manager\", \"administrative assistant\", \"real estate\", \"answer phone\", \"train new\", \"team member\", \"customer service\", \"human resources\", \"data entry\", \"security officer\", \"service provide\", \"responsibility include\", \"company policy\", \"daily activity\", \"credit card\", \"include limit\", \"quality control\", \"policy procedure\", \"service representative\", \"customer service\", \"customer service representative\", \"quality assurance\", \"security guard\", \"fast pace\", \"technical support\", \"high quality\", \"sale representative\", \"customer support\", \"staff member\", \"resolve issue\", \"resolve customer\", \"customer service\", \"service customer\", \"high level\", \"customer relation\", \"provide customer\", \"problem solve\", \"legal document\", \"answering phone\", \"develop implement\", \"program manager\", \"weekly monthly\", \"expense report\", \"sales manager\", \"account executive\", \"duty include\", \"food beverage\", \"executive assistant\", \"high school\", \"project include\", \"public relation\", \"travel arrangement\", \"administrative duty\", \"create maintain\", \"timely manner\", \"office assistant\", \"team leader\", \"press release\", \"training program\", \"assistant manager\", \"duty include\", \"software engineer\", \"phone email\", \"day operation\", \"day day operation\", \"manager manage\", \"hardware software\", \"sale goal\", \"general manager\", \"increase sale\", \"communication skill\", \"customer relation\", \"train new\"], \"Freq\": [20.0, 67.0, 16.0, 20.0, 17.0, 25.0, 14.0, 26.0, 14.0, 14.0, 17.468383206834964, 10.438166687090664, 10.912074191272481, 8.587909221241384, 23.006254394912617, 8.962831500284626, 8.105937659092607, 6.382051340196132, 9.30806609510081, 4.5376859782595265, 6.19192014863696, 9.304510250086501, 6.694482355371552, 13.927950951741565, 10.565505462205465, 13.942379432884623, 9.907288164895988, 8.570655586109874, 7.548013008712814, 6.684705239230253, 6.015832459669055, 5.118040584166769, 13.401956353494517, 20.69016513159818, 7.316466563929856, 9.213702554907321, 9.125427077587624, 18.05243690896498, 7.37015955344618, 5.796157991615784, 5.58400495169451, 4.989239618075913, 6.57236577504748, 6.029163260619734, 4.233978655878976, 10.7019353758951, 10.933857939236164, 12.951679879141796, 11.467018297107021, 12.186344240805592, 7.832488781875959, 10.14057427179995, 9.914484682082017, 11.365366127632793, 7.460573094566165, 16.67614772666788, 12.13111861677599, 11.695976226436791, 4.671226462314815, 14.007987847229387, 4.42251536220889, 6.407996842637233, 8.66963748987849, 4.332048445824149, 4.316714890048654, 8.951111276009163, 6.907971864994223, 21.98666017897878, 5.767250835964588, 11.343896160638744, 7.234326051207871, 8.303910872090643, 12.818767954014787, 6.1431923157815405, 5.962159693278426, 5.93625559091957, 3.18841208851758, 3.094885704579429, 3.8375872485807747, 14.672897507624493, 4.063645658927789, 4.175644948306908, 4.213051146378004, 4.190889660315627, 10.357580456676587, 5.38961763862103, 12.625243720597288, 17.150105687041748, 9.782750516328232, 3.3715150299955305, 4.11563287450792, 4.510436460731306, 4.499841246782896, 13.311858230533726, 8.36498961815575, 5.195389970340437, 8.003416529701857, 14.624515451467401, 12.71044718389475, 5.934939692514139, 10.562828711887741, 4.374373805657021, 6.163494320260131, 5.767234844175313, 3.118920129335423, 4.90339744750997, 3.8747071620407487, 5.066452361818163, 5.840693294366493, 8.927558000865236, 6.708234513355197, 6.298384060228868, 5.876254209343685, 6.662765896758923, 5.648494319319991, 7.313418803385465, 4.487063309808787, 5.254336278013542, 4.4861082242618195, 5.3808330770252315, 6.813685981965178], \"Total\": [20.0, 67.0, 16.0, 20.0, 17.0, 25.0, 14.0, 26.0, 14.0, 14.0, 18.381360439430768, 11.28368832169981, 11.82937451277403, 9.411455908015254, 25.246525295064796, 9.85570762069148, 8.964721469989389, 7.248112374820731, 10.612942326914977, 5.372885434814848, 7.650275559214094, 25.94851900555879, 10.052168218343919, 14.732132286478578, 11.37759224003077, 15.03204762357, 10.713633115364582, 9.375068573155222, 8.360880768146869, 7.487286645559269, 6.849154550882838, 5.92881044534168, 16.074233531029147, 26.324243580437557, 8.975839430431872, 13.291584491402629, 14.008794985105855, 67.92424746810121, 8.183046336573417, 6.655969085410357, 6.492081184561759, 5.81122912418923, 7.758269354734767, 7.151213427518611, 5.068071762015706, 13.305101490730284, 14.266374043426232, 17.284212350639834, 16.33260593290575, 18.5972370959405, 11.081574240133554, 17.848740378942484, 17.444621748549295, 25.94851900555879, 67.92424746810121, 17.705976910228074, 12.949309310770383, 12.57415758338669, 5.4917616669863945, 16.644375152045452, 5.79408878261532, 8.517720649812116, 12.543688789710815, 6.391513582931365, 6.378191497584128, 17.045176835769585, 12.039326196223055, 67.92424746810121, 9.976893033930867, 12.152309622716022, 8.06146745103042, 9.313419816193715, 14.81334832237726, 7.572153444282188, 7.404837063903369, 7.736816196687577, 5.057463362230843, 5.020562821771407, 6.2736738815742035, 67.92424746810121, 8.504546812965373, 9.283940787675435, 10.256204893650299, 14.008794985105855, 11.806425811167099, 6.206859474655945, 14.92531174907834, 20.39489412563743, 12.93142855238311, 4.471608445757029, 5.58599941376437, 6.217985421466958, 6.861655586946249, 20.379154019236715, 13.129465222053627, 8.696753056536831, 8.833344915216436, 16.245873780414218, 14.202615306610491, 6.963467216814542, 12.710817235723288, 6.411950061194764, 9.802624676912597, 9.304447251847037, 5.098890771866531, 8.045161913490563, 6.711793038906061, 11.76913308235114, 20.379154019236715, 9.768532934652061, 7.5214829129455145, 7.086042595273921, 6.665398785507911, 8.263316231295724, 7.0985369553129605, 9.81655627254872, 6.625584465696592, 7.8407013230140175, 7.107380224083574, 10.256204893650299, 17.444621748549295], \"Category\": [\"Default\", \"Default\", \"Default\", \"Default\", \"Default\", \"Default\", \"Default\", \"Default\", \"Default\", \"Default\", \"Topic1\", \"Topic1\", \"Topic1\", \"Topic1\", \"Topic1\", \"Topic1\", \"Topic1\", \"Topic1\", \"Topic1\", \"Topic1\", \"Topic1\", \"Topic1\", \"Topic1\", \"Topic2\", \"Topic2\", \"Topic2\", \"Topic2\", \"Topic2\", \"Topic2\", \"Topic2\", \"Topic2\", \"Topic2\", \"Topic2\", \"Topic2\", \"Topic2\", \"Topic2\", \"Topic2\", \"Topic2\", \"Topic3\", \"Topic3\", \"Topic3\", \"Topic3\", \"Topic3\", \"Topic3\", \"Topic3\", \"Topic3\", \"Topic3\", \"Topic3\", \"Topic3\", \"Topic3\", \"Topic3\", \"Topic3\", \"Topic3\", \"Topic3\", \"Topic3\", \"Topic4\", \"Topic4\", \"Topic4\", \"Topic4\", \"Topic4\", \"Topic4\", \"Topic4\", \"Topic4\", \"Topic4\", \"Topic4\", \"Topic4\", \"Topic4\", \"Topic4\", \"Topic4\", \"Topic5\", \"Topic5\", \"Topic5\", \"Topic5\", \"Topic5\", \"Topic5\", \"Topic5\", \"Topic5\", \"Topic5\", \"Topic5\", \"Topic5\", \"Topic5\", \"Topic5\", \"Topic5\", \"Topic5\", \"Topic6\", \"Topic6\", \"Topic6\", \"Topic6\", \"Topic6\", \"Topic6\", \"Topic6\", \"Topic6\", \"Topic6\", \"Topic6\", \"Topic6\", \"Topic6\", \"Topic7\", \"Topic7\", \"Topic7\", \"Topic7\", \"Topic7\", \"Topic7\", \"Topic7\", \"Topic7\", \"Topic7\", \"Topic7\", \"Topic7\", \"Topic7\", \"Topic7\", \"Topic8\", \"Topic8\", \"Topic8\", \"Topic8\", \"Topic8\", \"Topic8\", \"Topic8\", \"Topic8\", \"Topic8\", \"Topic8\", \"Topic8\", \"Topic8\"], \"logprob\": [10.0, 9.0, 8.0, 7.0, 6.0, 5.0, 4.0, 3.0, 2.0, 1.0, -2.9635, -3.4784, -3.434, -3.6735, -2.6881, -3.6308, -3.7313, -3.9704, -3.593, -4.3114, -4.0006, -3.5934, -3.9226, -3.0152, -3.2915, -3.0142, -3.3558, -3.5008, -3.6278, -3.7493, -3.8547, -4.0163, -3.0537, -2.6195, -3.659, -3.4284, -3.438, -2.7558, -3.6076, -3.8479, -3.8852, -3.9978, -3.7222, -3.8085, -4.1619, -3.2347, -3.2132, -3.0439, -3.1656, -3.1048, -3.5468, -3.2885, -3.3111, -3.1745, -3.5954, -2.5784, -2.8966, -2.9331, -3.8509, -2.7527, -3.9057, -3.5348, -3.2325, -3.9263, -3.9299, -3.2006, -3.4597, -2.3019, -3.6402, -2.7353, -3.1851, -3.0473, -2.6131, -3.3486, -3.3786, -3.3829, -4.0045, -4.0342, -3.8191, -2.478, -3.7619, -3.7347, -3.7258, -3.7311, -2.7532, -3.4064, -2.5552, -2.2489, -2.8103, -3.8755, -3.6761, -3.5845, -3.5869, -2.5022, -2.9668, -3.4431, -2.985, -2.3821, -2.5224, -3.284, -2.7075, -3.5891, -3.2462, -3.3126, -3.9273, -3.4749, -3.7104, -3.4422, -3.3, -2.7849, -3.0707, -3.1337, -3.2031, -3.0775, -3.2426, -2.9843, -3.4728, -3.3149, -3.473, -3.2912, -3.0551], \"loglift\": [10.0, 9.0, 8.0, 7.0, 6.0, 5.0, 4.0, 3.0, 2.0, 1.0, 1.595, 1.568, 1.5652, 1.5543, 1.553, 1.5509, 1.5452, 1.5187, 1.5147, 1.477, 1.4344, 0.6203, 1.2394, 1.7645, 1.7466, 1.7454, 1.7424, 1.7309, 1.7184, 1.7073, 1.6909, 1.6736, 1.6388, 1.5798, 1.6162, 1.4542, 1.392, 0.4955, 1.7601, 1.7264, 1.714, 1.7122, 1.6988, 1.694, 1.6849, 1.647, 1.5986, 1.5761, 1.511, 1.442, 1.5177, 1.2993, 1.2996, 1.0391, -0.3441, 2.0175, 2.0121, 2.005, 1.9156, 1.905, 1.8073, 1.7928, 1.708, 1.6885, 1.687, 1.4333, 1.5219, 0.9494, 1.5293, 2.2369, 2.1975, 2.191, 2.1612, 2.0966, 2.0891, 2.0409, 1.8444, 1.822, 1.8143, 0.7734, 1.5673, 1.5068, 1.4161, 1.099, 2.2479, 2.2377, 2.2115, 2.2056, 2.0998, 2.0965, 2.0734, 2.0578, 1.957, 1.953, 1.9281, 1.8637, 2.3063, 2.2998, 2.2939, 2.2451, 2.2198, 2.0225, 1.9409, 1.9266, 1.9134, 1.9098, 1.8555, 1.5621, 1.1553, 2.4057, 2.3813, 2.3779, 2.3698, 2.2805, 2.2673, 2.2014, 2.106, 2.0955, 2.0356, 1.8507, 1.5557]}, \"token.table\": {\"Topic\": [3, 5, 6, 1, 3, 1, 3, 6, 8, 6, 7, 2, 3, 4, 2, 6, 8, 2, 4, 2, 3, 7, 1, 2, 3, 3, 1, 2, 4, 8, 2, 4, 1, 7, 1, 4, 2, 7, 5, 8, 1, 2, 3, 4, 5, 6, 7, 3, 4, 5, 2, 5, 4, 6, 4, 3, 4, 6, 8, 8, 1, 6, 8, 6, 7, 2, 2, 3, 6, 7, 1, 6, 5, 1, 2, 6, 2, 1, 8, 5, 8, 1, 3, 5, 1, 5, 7, 4, 2, 4, 1, 2, 8, 6, 3, 2, 1, 8, 1, 1, 3, 1, 3, 4, 3, 6, 7, 3, 3, 2, 8, 1, 2, 4, 5, 1, 7, 5, 6, 1, 1, 6, 7, 1, 7, 1, 5, 2, 5, 2, 2, 1, 7, 5, 4, 7, 1, 3, 6, 1, 2, 3, 5, 5, 7, 1, 4, 2, 3, 4, 2, 3, 4, 8, 1, 2, 5, 1, 3, 3, 6, 5, 4, 3, 1, 2, 5, 4, 3, 4, 5, 1, 5, 8, 5, 7, 1, 7, 1, 3, 7, 5, 7, 8, 2, 5, 7, 3, 8, 3, 1, 7, 7, 1, 6], \"Freq\": [0.14573742259847902, 0.14573742259847902, 0.5829496903939161, 0.2449088661314659, 0.6734993818615312, 0.053771428241794324, 0.6452571389015318, 0.10754285648358865, 0.16131428472538295, 0.0786731475604524, 0.8654046231649765, 0.2801318128812541, 0.5602636257625082, 0.11205272515250163, 0.9313435102512737, 0.8710035822737685, 0.13400055111904133, 0.677120173732594, 0.22570672457753133, 0.424840127561982, 0.08496802551239639, 0.424840127561982, 0.9248499345854977, 0.8087477374834232, 0.12442272884360357, 0.9022630795523997, 0.8278017350894618, 0.14069881847765364, 0.14069881847765364, 0.5627952739106146, 0.17258969227403223, 0.6903587690961289, 0.15595879419773054, 0.6238351767909222, 0.23916409680546313, 0.7174922904163894, 0.7798713484409107, 0.11141019263441582, 0.39000780907530747, 0.4875097613441343, 0.014722283091463367, 0.2650010956463406, 0.10305598164024357, 0.3238902280121941, 0.2208342463719505, 0.029444566182926735, 0.0441668492743901, 0.10023160482918426, 0.6013896289751056, 0.3006948144875528, 0.12925213351044035, 0.7755128010626421, 0.7044138034900626, 0.1174023005816771, 0.9266903517409373, 0.7521314675076161, 0.11571253346271015, 0.11571253346271015, 0.9001711965149574, 0.8467349609218743, 0.04903187993228897, 0.8335419588489125, 0.09806375986457794, 0.63790675450653, 0.2944185020799369, 0.9668126408413324, 0.9333901854132797, 0.22997088534056043, 0.5749272133514011, 0.11498544267028021, 0.17901899479901778, 0.7160759791960711, 0.8589755597712877, 0.9298885573469311, 0.3046582577697971, 0.6093165155395942, 0.8760205300414218, 0.1509300809879364, 0.6037203239517456, 0.14087409931021652, 0.8452445958612991, 0.3231386400032347, 0.10771288000107825, 0.430851520004313, 0.13206282827708812, 0.7923769696625288, 0.9056591898974866, 0.9601277628561541, 0.15645746301322355, 0.6258298520528942, 0.12753961142032041, 0.12753961142032041, 0.6376980571016021, 0.8055603675926878, 0.9242028602889418, 0.9503037121686355, 0.12101678938689191, 0.8471175257082434, 0.9305986626108476, 0.8923868997805539, 0.9014464945685795, 0.07515914107808226, 0.8267505518589049, 0.07515914107808226, 0.21495097407349775, 0.10747548703674888, 0.6448529222204933, 0.8604031768748386, 0.7892548069226814, 0.8433394938319448, 0.930667540034164, 0.23467048998904688, 0.11733524499452344, 0.5280086024753554, 0.05866762249726172, 0.24859661266062175, 0.6214915316515544, 0.0846996386539058, 0.8469963865390581, 0.9562813753752128, 0.07733097669365475, 0.7733097669365476, 0.07733097669365475, 0.06155409142754667, 0.9233113714132, 0.848021191745811, 0.09422457686064567, 0.6424535450457228, 0.28553490890921013, 0.9599929781602663, 0.9349181260679688, 0.07040956742203375, 0.9153243764864388, 0.9051777268279902, 0.6271370186227684, 0.1567842546556921, 0.1804797726984227, 0.7219190907936908, 0.09023988634921135, 0.7842854748903155, 0.1307142458150526, 0.3187924711665369, 0.6375849423330738, 0.5975425677357641, 0.19918085591192136, 0.12016071385859246, 0.8411249970101472, 0.7977437199983143, 0.15195118476158367, 0.03798779619039592, 0.9568369914421282, 0.10186871772909067, 0.10186871772909067, 0.7130810241036347, 0.6963671765088348, 0.1989620504310957, 0.8102811646252718, 0.21028468697569042, 0.7710438522441981, 0.16082379295191052, 0.8041189647595525, 0.8683282594045898, 0.9543382863162713, 0.8390184492202928, 0.8862350425586347, 0.4703366432061859, 0.4703366432061859, 0.9104546597601624, 0.08306112681901727, 0.5814278877331209, 0.3322445072760691, 0.9110164559752725, 0.07921882225871935, 0.9213256545488184, 0.5931827450108709, 0.1977275816702903, 0.19612108686806287, 0.5883632606041886, 0.3468406038152692, 0.4239162935519957, 0.19268922434181623, 0.8775868707793774, 0.06750668236764441, 0.06750668236764441, 0.20402698929302612, 0.10201349464651306, 0.6120809678790784, 0.5732425812460855, 0.4012698068722599, 0.8554271492651956, 0.29798296646017786, 0.5959659329203557, 0.8616397281963104, 0.9131764401274475, 0.6708995289707459], \"Term\": [\"account executive\", \"account executive\", \"account executive\", \"account manager\", \"account manager\", \"administrative assistant\", \"administrative assistant\", \"administrative assistant\", \"administrative assistant\", \"administrative duty\", \"administrative duty\", \"answer phone\", \"answer phone\", \"answer phone\", \"answer question\", \"answering phone\", \"answering phone\", \"assist customer\", \"assist customer\", \"assistant manager\", \"assistant manager\", \"assistant manager\", \"business development\", \"cash register\", \"cash register\", \"clerical duty\", \"client need\", \"communication skill\", \"communication skill\", \"communication skill\", \"company policy\", \"company policy\", \"create maintain\", \"create maintain\", \"credit card\", \"credit card\", \"customer need\", \"customer need\", \"customer relation\", \"customer relation\", \"customer service\", \"customer service\", \"customer service\", \"customer service\", \"customer service\", \"customer service\", \"customer service\", \"customer service representative\", \"customer service representative\", \"customer service representative\", \"customer support\", \"customer support\", \"daily activity\", \"daily activity\", \"data entry\", \"datum entry\", \"datum entry\", \"datum entry\", \"day day operation\", \"day operation\", \"develop implement\", \"develop implement\", \"develop implement\", \"duty include\", \"duty include\", \"excellent customer\", \"excellent customer service\", \"executive assistant\", \"executive assistant\", \"executive assistant\", \"expense report\", \"expense report\", \"fast pace\", \"financial service\", \"food beverage\", \"food beverage\", \"food order\", \"general manager\", \"general manager\", \"hardware software\", \"hardware software\", \"high level\", \"high level\", \"high level\", \"high quality\", \"high quality\", \"high school\", \"human resources\", \"include limit\", \"include limit\", \"increase sale\", \"increase sale\", \"increase sale\", \"legal document\", \"line phone\", \"make sure\", \"manager manage\", \"manager manage\", \"marketing campaign\", \"marketing strategy\", \"multi line\", \"new employee\", \"new employee\", \"new employee\", \"office assistant\", \"office assistant\", \"office assistant\", \"office duty\", \"opening closing\", \"order customer\", \"phone email\", \"policy procedure\", \"policy procedure\", \"policy procedure\", \"policy procedure\", \"press release\", \"press release\", \"problem solve\", \"problem solve\", \"product development\", \"program manager\", \"program manager\", \"program manager\", \"project include\", \"project include\", \"project manager\", \"project manager\", \"provide customer\", \"provide customer\", \"provide excellent\", \"provide excellent customer\", \"public relation\", \"public relation\", \"quality assurance\", \"quality control\", \"quality control\", \"real estate\", \"real estate\", \"real estate\", \"research assistant\", \"research assistant\", \"resolve customer\", \"resolve customer\", \"resolve issue\", \"resolve issue\", \"responsibility include\", \"responsibility include\", \"sale associate\", \"sale associate\", \"sale associate\", \"sale floor\", \"sale goal\", \"sale goal\", \"sale goal\", \"sale marketing\", \"sale marketing\", \"sale representative\", \"sale team\", \"sale team\", \"sales manager\", \"sales manager\", \"security guard\", \"security officer\", \"serve customer\", \"service client\", \"service customer\", \"service customer\", \"service provide\", \"service representative\", \"service representative\", \"service representative\", \"social medium\", \"social medium\", \"software engineer\", \"staff member\", \"staff member\", \"team leader\", \"team leader\", \"team member\", \"team member\", \"team member\", \"technical support\", \"technical support\", \"technical support\", \"timely manner\", \"timely manner\", \"timely manner\", \"train new\", \"train new\", \"train new employee\", \"training program\", \"training program\", \"travel arrangement\", \"vice president\", \"weekly monthly\"]}, \"R\": 10, \"lambda.step\": 0.01, \"plot.opts\": {\"xlab\": \"PC1\", \"ylab\": \"PC2\"}, \"topic.order\": [6, 3, 7, 2, 1, 8, 5, 4]};\n",
       "\n",
       "function LDAvis_load_lib(url, callback){\n",
       "  var s = document.createElement('script');\n",
       "  s.src = url;\n",
       "  s.async = true;\n",
       "  s.onreadystatechange = s.onload = callback;\n",
       "  s.onerror = function(){console.warn(\"failed to load library \" + url);};\n",
       "  document.getElementsByTagName(\"head\")[0].appendChild(s);\n",
       "}\n",
       "\n",
       "if(typeof(LDAvis) !== \"undefined\"){\n",
       "   // already loaded: just create the visualization\n",
       "   !function(LDAvis){\n",
       "       new LDAvis(\"#\" + \"ldavis_el899321123702897442809382144\", ldavis_el899321123702897442809382144_data);\n",
       "   }(LDAvis);\n",
       "}else if(typeof define === \"function\" && define.amd){\n",
       "   // require.js is available: use it to load d3/LDAvis\n",
       "   require.config({paths: {d3: \"https://cdnjs.cloudflare.com/ajax/libs/d3/3.5.5/d3.min\"}});\n",
       "   require([\"d3\"], function(d3){\n",
       "      window.d3 = d3;\n",
       "      LDAvis_load_lib(\"https://cdn.rawgit.com/bmabey/pyLDAvis/files/ldavis.v1.0.0.js\", function(){\n",
       "        new LDAvis(\"#\" + \"ldavis_el899321123702897442809382144\", ldavis_el899321123702897442809382144_data);\n",
       "      });\n",
       "    });\n",
       "}else{\n",
       "    // require.js not available: dynamically load d3 & LDAvis\n",
       "    LDAvis_load_lib(\"https://cdnjs.cloudflare.com/ajax/libs/d3/3.5.5/d3.min.js\", function(){\n",
       "         LDAvis_load_lib(\"https://cdn.rawgit.com/bmabey/pyLDAvis/files/ldavis.v1.0.0.js\", function(){\n",
       "                 new LDAvis(\"#\" + \"ldavis_el899321123702897442809382144\", ldavis_el899321123702897442809382144_data);\n",
       "            })\n",
       "         });\n",
       "}\n",
       "</script>"
      ],
      "text/plain": [
       "PreparedData(topic_coordinates=                x           y  topics  cluster       Freq\n",
       "topic                                                    \n",
       "5     -108.958252 -208.941483       1        1  19.283764\n",
       "2      186.487061  -98.103249       2        1  16.192013\n",
       "6       19.245832  160.858780       3        1  15.494517\n",
       "1      170.658829   75.445076       4        1  12.525503\n",
       "0       -1.386411  -35.043739       5        1   9.968122\n",
       "7     -145.800095  106.944611       6        1   9.265570\n",
       "4       64.834541 -221.825272       7        1   9.027182\n",
       "3     -196.906036  -58.990913       8        1   8.243329, topic_info=                    Term       Freq      Total Category  logprob  loglift\n",
       "51     develop implement  20.000000  20.000000  Default  10.0000  10.0000\n",
       "40      customer service  67.000000  67.000000  Default   9.0000   9.0000\n",
       "133      project include  16.000000  16.000000  Default   8.0000   8.0000\n",
       "56          duty include  20.000000  20.000000  Default   7.0000   7.0000\n",
       "80       human resources  17.000000  17.000000  Default   6.0000   6.0000\n",
       "..                   ...        ...        ...      ...      ...      ...\n",
       "68       general manager   4.487063   6.625584   Topic8  -3.4728   2.1060\n",
       "84         increase sale   5.254336   7.840701   Topic8  -3.3149   2.0955\n",
       "24   communication skill   4.486108   7.107380   Topic8  -3.4730   2.0356\n",
       "38     customer relation   5.380833  10.256205   Topic8  -3.2912   1.8507\n",
       "184            train new   6.813686  17.444622   Topic8  -3.0551   1.5557\n",
       "\n",
       "[121 rows x 6 columns], token_table=      Topic      Freq                Term\n",
       "term                                     \n",
       "0         3  0.145737   account executive\n",
       "0         5  0.145737   account executive\n",
       "0         6  0.582950   account executive\n",
       "1         1  0.244909     account manager\n",
       "1         3  0.673499     account manager\n",
       "...     ...       ...                 ...\n",
       "187       1  0.297983    training program\n",
       "187       7  0.595966    training program\n",
       "188       7  0.861640  travel arrangement\n",
       "189       1  0.913176      vice president\n",
       "191       6  0.670900      weekly monthly\n",
       "\n",
       "[195 rows x 3 columns], R=10, lambda_step=0.01, plot_opts={'xlab': 'PC1', 'ylab': 'PC2'}, topic_order=[6, 3, 7, 2, 1, 8, 5, 4])"
      ]
     },
     "execution_count": 26,
     "metadata": {},
     "output_type": "execute_result"
    }
   ],
   "source": [
    "print(f'\\n')\n",
    "pyLDAvis.enable_notebook()\n",
    "\n",
    "lda_vis"
   ]
  },
  {
   "cell_type": "code",
   "execution_count": 25,
   "metadata": {},
   "outputs": [],
   "source": [
    "##pyLDAvis.show(lda_vis)"
   ]
  },
  {
   "cell_type": "markdown",
   "metadata": {},
   "source": [
    "### UMAP Plot"
   ]
  },
  {
   "cell_type": "markdown",
   "metadata": {},
   "source": [
    "**LDA UMAP based on Euclidean Distance**"
   ]
  },
  {
   "cell_type": "code",
   "execution_count": 26,
   "metadata": {},
   "outputs": [
    {
     "data": {
      "image/png": "[encoded data removed]",
      "text/plain": [
       "<Figure size 720x504 with 1 Axes>"
      ]
     },
     "metadata": {
      "needs_background": "light"
     },
     "output_type": "display_data"
    }
   ],
   "source": [
    "## Kmean Clustering for labels\n",
    "num_clusters = 8\n",
    "km = KMeans(n_clusters=num_clusters,random_state=10,n_init=1000) # n_init, number of times the K-mean algorithm will run\n",
    "km.fit(resume_doc_topic_lda)\n",
    "km.cluster_centers_\n",
    "km_labels = km.labels_ + 1 # topic 1 ~ 8 instead of 0 ~ 7\n",
    "labels = []\n",
    "for label in km_labels:\n",
    "    labels.append(\"Topic \" + str(label))\n",
    "    \n",
    "## UMAP\n",
    "reducer_euclidean = umap.UMAP(random_state = 42, n_components = 8)\n",
    "reducer_euclidean.fit(resume_doc_topic_lda.values)\n",
    "embeddings_euclidean = reducer_euclidean.transform(resume_doc_topic_lda.values)\n",
    "\n",
    "## Plot\n",
    "plt.figure(figsize=(10, 7))\n",
    "\n",
    "sns.scatterplot(embeddings_euclidean[:, 0], \n",
    "                embeddings_euclidean[:, 1], \n",
    "                hue = labels,\n",
    "                legend = 'full',\n",
    "                palette = sns.color_palette(\"hls\", 8),\n",
    "                alpha = 0.5)\n",
    "\n",
    "plt.title(f'\\nUMAP Projection of Types of Resumes\\n(LDA | Euclidean Distance)', fontsize = 20, y = 1.01);"
   ]
  },
  {
   "cell_type": "markdown",
   "metadata": {},
   "source": [
    "**NMF UMAP based on Cosine Similarity**"
   ]
  },
  {
   "cell_type": "code",
   "execution_count": 27,
   "metadata": {},
   "outputs": [
    {
     "data": {
      "image/png": "[encoded data removed]",
      "text/plain": [
       "<Figure size 720x504 with 1 Axes>"
      ]
     },
     "metadata": {
      "needs_background": "light"
     },
     "output_type": "display_data"
    }
   ],
   "source": [
    "## labels are the topic number with the max value\n",
    "labels = resume_doc_topic_nmf.idxmax(axis=1).tolist()\n",
    "\n",
    "## UMAP\n",
    "reducer_cosine = umap.UMAP(random_state = 42, n_components = 8, metric='cosine', output_metric='cosine')\n",
    "reducer_cosine.fit(resume_doc_topic_nmf.values)\n",
    "embeddings_cosine = reducer_cosine.transform(resume_doc_topic_nmf.values)\n",
    "\n",
    "## Plot\n",
    "plt.figure(figsize=(10, 7))\n",
    "\n",
    "sns.scatterplot(embeddings_cosine[:, 0], \n",
    "                embeddings_cosine[:, 1], \n",
    "                hue = labels,\n",
    "                legend = 'full',\n",
    "                palette = sns.color_palette(\"hls\", 8),\n",
    "                alpha = 0.5)\n",
    "\n",
    "plt.title(f'\\nUMAP Projection of Types of Resumes (NMF | Cosine Similarity)', fontsize = 20, y = 1.01);"
   ]
  },
  {
   "cell_type": "markdown",
   "metadata": {},
   "source": [
    "**LSA UMAP based on Cosine Similarity**"
   ]
  },
  {
   "cell_type": "code",
   "execution_count": 28,
   "metadata": {},
   "outputs": [
    {
     "data": {
      "image/png": "[encoded data removed]",
      "text/plain": [
       "<Figure size 720x504 with 1 Axes>"
      ]
     },
     "metadata": {
      "needs_background": "light"
     },
     "output_type": "display_data"
    }
   ],
   "source": [
    "# labels are the topic number with the max value\n",
    "labels = resume_doc_topic_lsa.idxmax(axis=1).tolist()\n",
    "\n",
    "## UMAP\n",
    "reducer_cosine = umap.UMAP(random_state = 42, n_components = 8, metric='cosine', output_metric='cosine')\n",
    "reducer_cosine.fit(resume_doc_topic_lsa.values)\n",
    "embeddings_cosine = reducer_cosine.transform(resume_doc_topic_lsa.values)\n",
    "\n",
    "## Plot\n",
    "plt.figure(figsize=(10, 7))\n",
    "\n",
    "sns.scatterplot(embeddings_cosine[:, 0], \n",
    "                embeddings_cosine[:, 1], \n",
    "                hue = labels,\n",
    "                legend = 'full',\n",
    "                palette = sns.color_palette(\"hls\", 8),\n",
    "                alpha = 0.5)\n",
    "\n",
    "plt.title(f'\\nUMAP Projection of Types of Resumes (LSA | Cosine Similarity)', fontsize = 20, y = 1.01);"
   ]
  },
  {
   "cell_type": "markdown",
   "metadata": {},
   "source": [
    "# Recommendation Engine"
   ]
  },
  {
   "cell_type": "markdown",
   "metadata": {},
   "source": [
    "**Recommendation function using `pairwise_distances`**"
   ]
  },
  {
   "cell_type": "code",
   "execution_count": 29,
   "metadata": {},
   "outputs": [],
   "source": [
    "def pairwise_func(text): \n",
    "    vt = tfidf.transform(sample_jd)\n",
    "    tt = lsa.transform(vt)\n",
    "    cos = pairwise_distances(tt,resume_doc_topic_lsa,metric='cosine').argsort()[0]\n",
    "    doc_num_1 = cos[0]\n",
    "    doc_num_2 = cos[1]\n",
    "    print(list(cos[0:10]))\n",
    "    print(resumes.iloc[doc_num_1, [2]])\n",
    "    print(resumes.iloc[doc_num_2, [2]])"
   ]
  },
  {
   "cell_type": "markdown",
   "metadata": {},
   "source": [
    "**Recommendation function with `np.dot`**\n",
    "\n",
    "Below are the text cleaning functions from previous notebooks."
   ]
  },
  {
   "cell_type": "code",
   "execution_count": 30,
   "metadata": {},
   "outputs": [],
   "source": [
    "def ultimate_cleaning(text):\n",
    "    doc = nlp(text)\n",
    "    pos_tag_list = ['ADJ', 'ADV', 'NOUN', 'PART', 'VERB'] \n",
    "    stop_words_list = ['nbsp', 'candidate', 'now', 'work', 'professional', 'ability', 'hire', 'join', \n",
    "                       'interested', 'approximately', 'start', 'end', 'p.m.', '-PRON-']\n",
    "    cleaned_text = []\n",
    "\n",
    "    for token in doc:\n",
    "        if token.pos_ in pos_tag_list\\\n",
    "        and token.is_stop == False\\\n",
    "        and token.is_alpha == True\\\n",
    "        and token.lemma_ not in stop_words_list:\n",
    "            cleaned_text.append(token.lemma_)\n",
    "\n",
    "    return ' '.join(cleaned_text)\n",
    "                    \n",
    "def title_cleaning(text):\n",
    "    doc = nlp(text)\n",
    "    pos_tag_list = ['ADJ', 'ADV', 'NOUN', 'PART', 'VERB', 'PROPN'] \n",
    "    stop_words_list = ['nbsp', 'candidate', 'now', 'work', 'professional', 'ability', 'hire', 'join', \n",
    "                       'interested', 'approximately', 'start', 'end', 'p.m.', '-PRON-']\n",
    "    cleaned_text = []\n",
    "\n",
    "    for token in doc:\n",
    "        if token.pos_ in pos_tag_list\\\n",
    "        and token.is_stop == False\\\n",
    "        and token.is_alpha == True\\\n",
    "        and token.lemma_ not in stop_words_list:\n",
    "            cleaned_text.append(token.lemma_)\n",
    "\n",
    "    return ' '.join(cleaned_text)"
   ]
  },
  {
   "cell_type": "code",
   "execution_count": 31,
   "metadata": {},
   "outputs": [],
   "source": [
    "def resume_recommendation(model, job_description, resume_doc_topic_matrix, num_recom=2):\n",
    "    \n",
    "    jd_doc_term_vector = tfidf.transform(job_description)\n",
    "    jd_doc_topic_vector = model.transform(jd_doc_term_vector)\n",
    "    \n",
    "    recs = []\n",
    "    resume_doc_count = range(resume_doc_topic_matrix.shape[0])\n",
    "    \n",
    "    for doc in resume_doc_count:\n",
    "        cosine_simliarity_score = np.dot(jd_doc_topic_vector, resume_doc_topic_matrix[doc])\n",
    "        recs.append([doc, cosine_simliarity_score])\n",
    "    \n",
    "    final_rec = sorted(recs, key = lambda x: x[1],reverse=True)\n",
    "    doc_num_1 = final_rec[0][0]\n",
    "    doc_num_2 = final_rec[1][0]\n",
    "    print(resumes.iloc[doc_num_1, [2]])\n",
    "    print(resumes.iloc[doc_num_2, [2]])\n",
    "    return final_rec[:num_recom]"
   ]
  },
  {
   "cell_type": "code",
   "execution_count": 36,
   "metadata": {},
   "outputs": [
    {
     "name": "stdout",
     "output_type": "stream",
     "text": [
      "job_description    Customer service with footwear/keyholder custo...\n",
      "Name: 336, dtype: object\n",
      "job_description    Greeted resident at front desk,answer incoming...\n",
      "Name: 517, dtype: object\n"
     ]
    },
    {
     "data": {
      "text/plain": [
       "[[336, array([0.4999967])], [517, array([0.39107471])]]"
      ]
     },
     "execution_count": 36,
     "metadata": {},
     "output_type": "execute_result"
    }
   ],
   "source": [
    "job_title = \"Retail Sales Associate\"\n",
    "job_description = f\"\"\"As a Retail Sales Associate, you’ll provide exceptional customer service and have our customer’s needs in mind while helping them find products and providing answers & solutions.\n",
    "\n",
    "You will be positive, inclusive and collaborative in helping our customers. You will also be part of a fun, team-oriented retail culture at Staples.\n",
    "\n",
    "Provide an exceptional customer experience.\n",
    "• Respond quickly and resourcefully to customer requests and concerns\n",
    "• Create a positive, inviting environment for customers\n",
    "\n",
    "• Multitask on sales responsibilities and merchandising while maintaining a neat and clean store\n",
    "• Understand and use basic selling skills to engage and present solutions\n",
    "• Be flexible in performing various responsibilities (i.e. cashier, returns, reserving online pick-ups, other duties as assigned)\n",
    "• Customer service or cashier experience in a retail environment \"\"\"\n",
    "\n",
    "job_title = title_cleaning(job_title)\n",
    "job_description = ultimate_cleaning(job_description)\n",
    "sample_jd = [job_title + \" \" + job_description]\n",
    "\n",
    "resume_recommendation(lsa, sample_jd, resume_doc_topic_lsa.to_numpy(), num_recom=2)"
   ]
  },
  {
   "cell_type": "markdown",
   "metadata": {},
   "source": [
    "**Create a dataframe with recommended resume**"
   ]
  },
  {
   "cell_type": "code",
   "execution_count": 39,
   "metadata": {},
   "outputs": [
    {
     "data": {
      "text/html": [
       "<div>\n",
       "<style scoped>\n",
       "    .dataframe tbody tr th:only-of-type {\n",
       "        vertical-align: middle;\n",
       "    }\n",
       "\n",
       "    .dataframe tbody tr th {\n",
       "        vertical-align: top;\n",
       "    }\n",
       "\n",
       "    .dataframe thead th {\n",
       "        text-align: right;\n",
       "    }\n",
       "</style>\n",
       "<table border=\"1\" class=\"dataframe\">\n",
       "  <thead>\n",
       "    <tr style=\"text-align: right;\">\n",
       "      <th></th>\n",
       "      <th>job_id</th>\n",
       "      <th>job_description_cleaned</th>\n",
       "      <th>top_rec_app_id</th>\n",
       "      <th>top_rec_app_resume_cleaned</th>\n",
       "      <th>top_10_rec_app_ids</th>\n",
       "    </tr>\n",
       "  </thead>\n",
       "  <tbody>\n",
       "    <tr>\n",
       "      <th>0</th>\n",
       "      <td>111</td>\n",
       "      <td>tacolicious store open recently love taco love...</td>\n",
       "      <td>6385</td>\n",
       "      <td>office agent bartender server employee daily t...</td>\n",
       "      <td>[461, 417, 829, 321, 269, 40, 518, 198, 163, 994]</td>\n",
       "    </tr>\n",
       "    <tr>\n",
       "      <th>1</th>\n",
       "      <td>113</td>\n",
       "      <td>seek energetic dynamic chef charge grow compan...</td>\n",
       "      <td>14456</td>\n",
       "      <td>senior credit collection analyst collector rec...</td>\n",
       "      <td>[1007, 71, 709, 819, 647, 946, 798, 185, 574, ...</td>\n",
       "    </tr>\n",
       "    <tr>\n",
       "      <th>2</th>\n",
       "      <td>117</td>\n",
       "      <td>popular wine bar restaurant look experienced b...</td>\n",
       "      <td>2</td>\n",
       "      <td>writer uloop blog volunteer write article site...</td>\n",
       "      <td>[0, 680, 681, 682, 683, 684, 685, 686, 687, 688]</td>\n",
       "    </tr>\n",
       "    <tr>\n",
       "      <th>3</th>\n",
       "      <td>121</td>\n",
       "      <td>serve food drink customer manner cashier need ...</td>\n",
       "      <td>6385</td>\n",
       "      <td>office agent bartender server employee daily t...</td>\n",
       "      <td>[461, 417, 829, 321, 269, 40, 518, 198, 163, 994]</td>\n",
       "    </tr>\n",
       "    <tr>\n",
       "      <th>4</th>\n",
       "      <td>127</td>\n",
       "      <td>locate heart popular mexican place currently l...</td>\n",
       "      <td>14408</td>\n",
       "      <td>cook office assistance cook food clean store s...</td>\n",
       "      <td>[1002, 356, 167, 58, 49, 1012, 195, 555, 468, 13]</td>\n",
       "    </tr>\n",
       "    <tr>\n",
       "      <th>...</th>\n",
       "      <td>...</td>\n",
       "      <td>...</td>\n",
       "      <td>...</td>\n",
       "      <td>...</td>\n",
       "      <td>...</td>\n",
       "    </tr>\n",
       "    <tr>\n",
       "      <th>84085</th>\n",
       "      <td>82</td>\n",
       "      <td>njahs stand national japanese locate town curr...</td>\n",
       "      <td>9157</td>\n",
       "      <td>accoun payable star payroll office processing ...</td>\n",
       "      <td>[668, 71, 776, 422, 277, 929, 729, 115, 316, 579]</td>\n",
       "    </tr>\n",
       "    <tr>\n",
       "      <th>84086</th>\n",
       "      <td>83</td>\n",
       "      <td>line other shift available team kitchen order ...</td>\n",
       "      <td>2</td>\n",
       "      <td>writer uloop blog volunteer write article site...</td>\n",
       "      <td>[0, 680, 681, 682, 683, 684, 685, 686, 687, 688]</td>\n",
       "    </tr>\n",
       "    <tr>\n",
       "      <th>84087</th>\n",
       "      <td>84</td>\n",
       "      <td>onigilly japanese rice ball wrap seek outgoing...</td>\n",
       "      <td>13997</td>\n",
       "      <td>sr software engineer technical lead sr softwar...</td>\n",
       "      <td>[904, 499, 482, 368, 1015, 866, 1, 173, 361, 807]</td>\n",
       "    </tr>\n",
       "    <tr>\n",
       "      <th>84088</th>\n",
       "      <td>88</td>\n",
       "      <td>popular restaurant look experienced line cook ...</td>\n",
       "      <td>2</td>\n",
       "      <td>writer uloop blog volunteer write article site...</td>\n",
       "      <td>[0, 680, 681, 682, 683, 684, 685, 686, 687, 688]</td>\n",
       "    </tr>\n",
       "    <tr>\n",
       "      <th>84089</th>\n",
       "      <td>92</td>\n",
       "      <td>look cashier take order manage transaction cas...</td>\n",
       "      <td>2</td>\n",
       "      <td>writer uloop blog volunteer write article site...</td>\n",
       "      <td>[0, 680, 681, 682, 683, 684, 685, 686, 687, 688]</td>\n",
       "    </tr>\n",
       "  </tbody>\n",
       "</table>\n",
       "<p>84090 rows × 5 columns</p>\n",
       "</div>"
      ],
      "text/plain": [
       "       job_id                            job_description_cleaned  \\\n",
       "0         111  tacolicious store open recently love taco love...   \n",
       "1         113  seek energetic dynamic chef charge grow compan...   \n",
       "2         117  popular wine bar restaurant look experienced b...   \n",
       "3         121  serve food drink customer manner cashier need ...   \n",
       "4         127  locate heart popular mexican place currently l...   \n",
       "...       ...                                                ...   \n",
       "84085      82  njahs stand national japanese locate town curr...   \n",
       "84086      83  line other shift available team kitchen order ...   \n",
       "84087      84  onigilly japanese rice ball wrap seek outgoing...   \n",
       "84088      88  popular restaurant look experienced line cook ...   \n",
       "84089      92  look cashier take order manage transaction cas...   \n",
       "\n",
       "       top_rec_app_id                         top_rec_app_resume_cleaned  \\\n",
       "0                6385  office agent bartender server employee daily t...   \n",
       "1               14456  senior credit collection analyst collector rec...   \n",
       "2                   2  writer uloop blog volunteer write article site...   \n",
       "3                6385  office agent bartender server employee daily t...   \n",
       "4               14408  cook office assistance cook food clean store s...   \n",
       "...               ...                                                ...   \n",
       "84085            9157  accoun payable star payroll office processing ...   \n",
       "84086               2  writer uloop blog volunteer write article site...   \n",
       "84087           13997  sr software engineer technical lead sr softwar...   \n",
       "84088               2  writer uloop blog volunteer write article site...   \n",
       "84089               2  writer uloop blog volunteer write article site...   \n",
       "\n",
       "                                      top_10_rec_app_ids  \n",
       "0      [461, 417, 829, 321, 269, 40, 518, 198, 163, 994]  \n",
       "1      [1007, 71, 709, 819, 647, 946, 798, 185, 574, ...  \n",
       "2       [0, 680, 681, 682, 683, 684, 685, 686, 687, 688]  \n",
       "3      [461, 417, 829, 321, 269, 40, 518, 198, 163, 994]  \n",
       "4      [1002, 356, 167, 58, 49, 1012, 195, 555, 468, 13]  \n",
       "...                                                  ...  \n",
       "84085  [668, 71, 776, 422, 277, 929, 729, 115, 316, 579]  \n",
       "84086   [0, 680, 681, 682, 683, 684, 685, 686, 687, 688]  \n",
       "84087  [904, 499, 482, 368, 1015, 866, 1, 173, 361, 807]  \n",
       "84088   [0, 680, 681, 682, 683, 684, 685, 686, 687, 688]  \n",
       "84089   [0, 680, 681, 682, 683, 684, 685, 686, 687, 688]  \n",
       "\n",
       "[84090 rows x 5 columns]"
      ]
     },
     "execution_count": 39,
     "metadata": {},
     "output_type": "execute_result"
    }
   ],
   "source": [
    "vt = tfidf.transform(jobs['text'])\n",
    "tt = lsa.transform(vt)\n",
    "recs = pairwise_distances(tt,resume_doc_topic_lsa,metric='cosine').argsort()\n",
    "\n",
    "from collections import defaultdict\n",
    "top_rec_app_ids = []\n",
    "top_rec_app_resumes = []\n",
    "top_10_rec_app_ids = []\n",
    "\n",
    "for rec in recs:\n",
    "    doc_num = rec[0]\n",
    "    top_rec_app_ids.append(resumes['applicant_id'].loc[doc_num])\n",
    "    top_rec_app_resumes.append(resumes['text'].loc[doc_num])\n",
    "    top_10_rec_app_ids.append(list(rec[0:10]))\n",
    "    \n",
    "rec_dict = {'job_id': jobs['job_id'].tolist(), \n",
    "            'job_description_cleaned': jobs['text'].tolist(),\n",
    "            'top_rec_app_id': top_rec_app_ids, \n",
    "            'top_rec_app_resume_cleaned': top_rec_app_resumes, \n",
    "            'top_10_rec_app_ids': top_10_rec_app_ids}\n",
    "rec_df = pd.DataFrame.from_dict(rec_dict)\n",
    "rec_df"
   ]
  }
 ],
 "metadata": {
  "kernelspec": {
   "display_name": "Python 3",
   "language": "python",
   "name": "python3"
  },
  "language_info": {
   "codemirror_mode": {
    "name": "ipython",
    "version": 3
   },
   "file_extension": ".py",
   "mimetype": "text/x-python",
   "name": "python",
   "nbconvert_exporter": "python",
   "pygments_lexer": "ipython3",
   "version": "3.7.7"
  }
 },
 "nbformat": 4,
 "nbformat_minor": 4
}
